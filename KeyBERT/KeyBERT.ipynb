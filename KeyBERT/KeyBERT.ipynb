{
  "nbformat": 4,
  "nbformat_minor": 0,
  "metadata": {
    "colab": {
      "name": "KeyBERT_0503_최종.ipynb",
      "provenance": [],
      "collapsed_sections": [],
      "background_execution": "on",
      "machine_shape": "hm"
    },
    "kernelspec": {
      "name": "python3",
      "display_name": "Python 3"
    },
    "language_info": {
      "name": "python"
    },
    "widgets": {
      "application/vnd.jupyter.widget-state+json": {
        "a2852d785b3643e78538f63d124a50f7": {
          "model_module": "@jupyter-widgets/controls",
          "model_name": "HBoxModel",
          "model_module_version": "1.5.0",
          "state": {
            "_dom_classes": [],
            "_model_module": "@jupyter-widgets/controls",
            "_model_module_version": "1.5.0",
            "_model_name": "HBoxModel",
            "_view_count": null,
            "_view_module": "@jupyter-widgets/controls",
            "_view_module_version": "1.5.0",
            "_view_name": "HBoxView",
            "box_style": "",
            "children": [
              "IPY_MODEL_36972f71ffec4f3a85ab8ef71c0716cc",
              "IPY_MODEL_5bac5ce3c13341838daed98820285bb7",
              "IPY_MODEL_62a5e614243e4049a455929f5ee2a807"
            ],
            "layout": "IPY_MODEL_549882c981cc49169ca0f264b22257f5"
          }
        },
        "36972f71ffec4f3a85ab8ef71c0716cc": {
          "model_module": "@jupyter-widgets/controls",
          "model_name": "HTMLModel",
          "model_module_version": "1.5.0",
          "state": {
            "_dom_classes": [],
            "_model_module": "@jupyter-widgets/controls",
            "_model_module_version": "1.5.0",
            "_model_name": "HTMLModel",
            "_view_count": null,
            "_view_module": "@jupyter-widgets/controls",
            "_view_module_version": "1.5.0",
            "_view_name": "HTMLView",
            "description": "",
            "description_tooltip": null,
            "layout": "IPY_MODEL_1425f81696944ed18a596dbcd479ece1",
            "placeholder": "​",
            "style": "IPY_MODEL_23b6705735f34184aafe8a7d8fda1a73",
            "value": "100%"
          }
        },
        "5bac5ce3c13341838daed98820285bb7": {
          "model_module": "@jupyter-widgets/controls",
          "model_name": "FloatProgressModel",
          "model_module_version": "1.5.0",
          "state": {
            "_dom_classes": [],
            "_model_module": "@jupyter-widgets/controls",
            "_model_module_version": "1.5.0",
            "_model_name": "FloatProgressModel",
            "_view_count": null,
            "_view_module": "@jupyter-widgets/controls",
            "_view_module_version": "1.5.0",
            "_view_name": "ProgressView",
            "bar_style": "success",
            "description": "",
            "description_tooltip": null,
            "layout": "IPY_MODEL_5f0add85c21d4d73952b66231219d34a",
            "max": 51,
            "min": 0,
            "orientation": "horizontal",
            "style": "IPY_MODEL_26f3cf26d86f4bd298d4b0a157d47e56",
            "value": 51
          }
        },
        "62a5e614243e4049a455929f5ee2a807": {
          "model_module": "@jupyter-widgets/controls",
          "model_name": "HTMLModel",
          "model_module_version": "1.5.0",
          "state": {
            "_dom_classes": [],
            "_model_module": "@jupyter-widgets/controls",
            "_model_module_version": "1.5.0",
            "_model_name": "HTMLModel",
            "_view_count": null,
            "_view_module": "@jupyter-widgets/controls",
            "_view_module_version": "1.5.0",
            "_view_name": "HTMLView",
            "description": "",
            "description_tooltip": null,
            "layout": "IPY_MODEL_f25dfe602f6d4b479611eaa748f61f9f",
            "placeholder": "​",
            "style": "IPY_MODEL_5d2b74b320f44c5abdb0c0643f3d31ff",
            "value": " 51/51 [00:00&lt;00:00, 722.60it/s]"
          }
        },
        "549882c981cc49169ca0f264b22257f5": {
          "model_module": "@jupyter-widgets/base",
          "model_name": "LayoutModel",
          "model_module_version": "1.2.0",
          "state": {
            "_model_module": "@jupyter-widgets/base",
            "_model_module_version": "1.2.0",
            "_model_name": "LayoutModel",
            "_view_count": null,
            "_view_module": "@jupyter-widgets/base",
            "_view_module_version": "1.2.0",
            "_view_name": "LayoutView",
            "align_content": null,
            "align_items": null,
            "align_self": null,
            "border": null,
            "bottom": null,
            "display": null,
            "flex": null,
            "flex_flow": null,
            "grid_area": null,
            "grid_auto_columns": null,
            "grid_auto_flow": null,
            "grid_auto_rows": null,
            "grid_column": null,
            "grid_gap": null,
            "grid_row": null,
            "grid_template_areas": null,
            "grid_template_columns": null,
            "grid_template_rows": null,
            "height": null,
            "justify_content": null,
            "justify_items": null,
            "left": null,
            "margin": null,
            "max_height": null,
            "max_width": null,
            "min_height": null,
            "min_width": null,
            "object_fit": null,
            "object_position": null,
            "order": null,
            "overflow": null,
            "overflow_x": null,
            "overflow_y": null,
            "padding": null,
            "right": null,
            "top": null,
            "visibility": null,
            "width": null
          }
        },
        "1425f81696944ed18a596dbcd479ece1": {
          "model_module": "@jupyter-widgets/base",
          "model_name": "LayoutModel",
          "model_module_version": "1.2.0",
          "state": {
            "_model_module": "@jupyter-widgets/base",
            "_model_module_version": "1.2.0",
            "_model_name": "LayoutModel",
            "_view_count": null,
            "_view_module": "@jupyter-widgets/base",
            "_view_module_version": "1.2.0",
            "_view_name": "LayoutView",
            "align_content": null,
            "align_items": null,
            "align_self": null,
            "border": null,
            "bottom": null,
            "display": null,
            "flex": null,
            "flex_flow": null,
            "grid_area": null,
            "grid_auto_columns": null,
            "grid_auto_flow": null,
            "grid_auto_rows": null,
            "grid_column": null,
            "grid_gap": null,
            "grid_row": null,
            "grid_template_areas": null,
            "grid_template_columns": null,
            "grid_template_rows": null,
            "height": null,
            "justify_content": null,
            "justify_items": null,
            "left": null,
            "margin": null,
            "max_height": null,
            "max_width": null,
            "min_height": null,
            "min_width": null,
            "object_fit": null,
            "object_position": null,
            "order": null,
            "overflow": null,
            "overflow_x": null,
            "overflow_y": null,
            "padding": null,
            "right": null,
            "top": null,
            "visibility": null,
            "width": null
          }
        },
        "23b6705735f34184aafe8a7d8fda1a73": {
          "model_module": "@jupyter-widgets/controls",
          "model_name": "DescriptionStyleModel",
          "model_module_version": "1.5.0",
          "state": {
            "_model_module": "@jupyter-widgets/controls",
            "_model_module_version": "1.5.0",
            "_model_name": "DescriptionStyleModel",
            "_view_count": null,
            "_view_module": "@jupyter-widgets/base",
            "_view_module_version": "1.2.0",
            "_view_name": "StyleView",
            "description_width": ""
          }
        },
        "5f0add85c21d4d73952b66231219d34a": {
          "model_module": "@jupyter-widgets/base",
          "model_name": "LayoutModel",
          "model_module_version": "1.2.0",
          "state": {
            "_model_module": "@jupyter-widgets/base",
            "_model_module_version": "1.2.0",
            "_model_name": "LayoutModel",
            "_view_count": null,
            "_view_module": "@jupyter-widgets/base",
            "_view_module_version": "1.2.0",
            "_view_name": "LayoutView",
            "align_content": null,
            "align_items": null,
            "align_self": null,
            "border": null,
            "bottom": null,
            "display": null,
            "flex": null,
            "flex_flow": null,
            "grid_area": null,
            "grid_auto_columns": null,
            "grid_auto_flow": null,
            "grid_auto_rows": null,
            "grid_column": null,
            "grid_gap": null,
            "grid_row": null,
            "grid_template_areas": null,
            "grid_template_columns": null,
            "grid_template_rows": null,
            "height": null,
            "justify_content": null,
            "justify_items": null,
            "left": null,
            "margin": null,
            "max_height": null,
            "max_width": null,
            "min_height": null,
            "min_width": null,
            "object_fit": null,
            "object_position": null,
            "order": null,
            "overflow": null,
            "overflow_x": null,
            "overflow_y": null,
            "padding": null,
            "right": null,
            "top": null,
            "visibility": null,
            "width": null
          }
        },
        "26f3cf26d86f4bd298d4b0a157d47e56": {
          "model_module": "@jupyter-widgets/controls",
          "model_name": "ProgressStyleModel",
          "model_module_version": "1.5.0",
          "state": {
            "_model_module": "@jupyter-widgets/controls",
            "_model_module_version": "1.5.0",
            "_model_name": "ProgressStyleModel",
            "_view_count": null,
            "_view_module": "@jupyter-widgets/base",
            "_view_module_version": "1.2.0",
            "_view_name": "StyleView",
            "bar_color": null,
            "description_width": ""
          }
        },
        "f25dfe602f6d4b479611eaa748f61f9f": {
          "model_module": "@jupyter-widgets/base",
          "model_name": "LayoutModel",
          "model_module_version": "1.2.0",
          "state": {
            "_model_module": "@jupyter-widgets/base",
            "_model_module_version": "1.2.0",
            "_model_name": "LayoutModel",
            "_view_count": null,
            "_view_module": "@jupyter-widgets/base",
            "_view_module_version": "1.2.0",
            "_view_name": "LayoutView",
            "align_content": null,
            "align_items": null,
            "align_self": null,
            "border": null,
            "bottom": null,
            "display": null,
            "flex": null,
            "flex_flow": null,
            "grid_area": null,
            "grid_auto_columns": null,
            "grid_auto_flow": null,
            "grid_auto_rows": null,
            "grid_column": null,
            "grid_gap": null,
            "grid_row": null,
            "grid_template_areas": null,
            "grid_template_columns": null,
            "grid_template_rows": null,
            "height": null,
            "justify_content": null,
            "justify_items": null,
            "left": null,
            "margin": null,
            "max_height": null,
            "max_width": null,
            "min_height": null,
            "min_width": null,
            "object_fit": null,
            "object_position": null,
            "order": null,
            "overflow": null,
            "overflow_x": null,
            "overflow_y": null,
            "padding": null,
            "right": null,
            "top": null,
            "visibility": null,
            "width": null
          }
        },
        "5d2b74b320f44c5abdb0c0643f3d31ff": {
          "model_module": "@jupyter-widgets/controls",
          "model_name": "DescriptionStyleModel",
          "model_module_version": "1.5.0",
          "state": {
            "_model_module": "@jupyter-widgets/controls",
            "_model_module_version": "1.5.0",
            "_model_name": "DescriptionStyleModel",
            "_view_count": null,
            "_view_module": "@jupyter-widgets/base",
            "_view_module_version": "1.2.0",
            "_view_name": "StyleView",
            "description_width": ""
          }
        }
      }
    }
  },
  "cells": [
    {
      "cell_type": "markdown",
      "source": [
        "# 1. import"
      ],
      "metadata": {
        "id": "S_9DracSwU3n"
      }
    },
    {
      "cell_type": "code",
      "source": [
        "from google.colab import drive\n",
        "drive.mount('/content/drive')"
      ],
      "metadata": {
        "colab": {
          "base_uri": "https://localhost:8080/"
        },
        "id": "v0BJ6PWCct3b",
        "outputId": "cf3e404f-859f-46ab-f3c2-19f13f4581a8"
      },
      "execution_count": null,
      "outputs": [
        {
          "output_type": "stream",
          "name": "stdout",
          "text": [
            "Mounted at /content/drive\n"
          ]
        }
      ]
    },
    {
      "cell_type": "code",
      "source": [
        "# 필요한 모듈, 데이터\n",
        "\n",
        "!pip install sentence_transformers\n",
        "!pip install konlpy\n",
        "\n",
        "import pandas as pd\n",
        "import numpy as np\n",
        "import itertools\n",
        "\n",
        "from konlpy.tag import Okt\n",
        "from sklearn.feature_extraction.text import CountVectorizer\n",
        "from sklearn.metrics.pairwise import cosine_similarity\n",
        "from sentence_transformers import SentenceTransformer\n",
        "from tqdm.notebook import tqdm\n",
        "\n",
        "# 모델, okt 저장\n",
        "model = SentenceTransformer('sentence-transformers/xlm-r-100langs-bert-base-nli-stsb-mean-tokens')\n",
        "okt = Okt()"
      ],
      "metadata": {
        "id": "1MtxkcnCB9J2"
      },
      "execution_count": null,
      "outputs": []
    },
    {
      "cell_type": "markdown",
      "source": [
        "# 2. data load"
      ],
      "metadata": {
        "id": "oZz1unrswc42"
      }
    },
    {
      "cell_type": "code",
      "source": [
        "# 데이터\n",
        "df = pd.read_pickle('/content/drive/MyDrive/6조_파이널PJT/data/SBERT/split_by_doc.pkl')\n",
        "df2 = pd.read_pickle('/content/drive/MyDrive/6조_파이널PJT/data/SBERT/SBERT_final.pkl')\n",
        "# df2 = pd.read_pickle('/content/drive/MyDrive/6조_파이널PJT/data/SBERT/SBERT_final_1000.pkl')\n",
        "test = pd.read_pickle('/content/drive/MyDrive/6조_파이널PJT/data/SBERT/SBERT_test.pkl')\n",
        "\n",
        "with open('/content/drive/MyDrive/6조_파이널PJT/data/SBERT/sbert_stop_words.txt', 'r') as file:\n",
        "    string = file.read()\n",
        "    stop_words = string.split('\\n')"
      ],
      "metadata": {
        "id": "oavc02MIwgcl"
      },
      "execution_count": null,
      "outputs": []
    },
    {
      "cell_type": "markdown",
      "source": [
        "# 3. 함수\n",
        "- find_titles\n",
        "- find_content"
      ],
      "metadata": {
        "id": "MOkjWXhIwmaO"
      }
    },
    {
      "cell_type": "code",
      "source": [
        "# 질문 -> 제목, 소제목\n",
        "# output : str, li (제목, 소제목 리스트)\n",
        "\n",
        "def find_titles(data, stop_words, question):\n",
        "\n",
        "  # 질문 -> 제목\n",
        "  tokenized_doc = okt.pos(question) # 질문 토큰화\n",
        "  tokenized_nouns = ' '.join([word[0] for word in tokenized_doc if ((word[1] == 'Number') | (word[1] == 'Noun') | (word[1] == 'Alpha')) \\\n",
        "                              & (word[0] not in stop_words)])\n",
        "  \n",
        "  # 질문 토큰 embedding\n",
        "  n_gram_range = (2, 3)\n",
        "  try:\n",
        "    count = CountVectorizer(ngram_range=n_gram_range, stop_words=stop_words).fit([tokenized_nouns]) \n",
        "    qas_candidates = count.get_feature_names_out()\n",
        "    qas_embedding = model.encode(qas_candidates)\n",
        "  except: \n",
        "    qas_candidates = np.array([tokenized_nouns], dtype = object)\n",
        "    qas_embedding = model.encode(qas_candidates)\n",
        "    \n",
        "  # 질문 embedding, 단어들과 코사인 유사도 확인\n",
        "  qas_doc_embedding = model.encode([question])\n",
        "  qas_candidate_embeddings = model.encode(qas_candidates)\n",
        "\n",
        "  top_n = 1 # 코사인 유사도가 제일 높은 단어 순으로 n개 추출\n",
        "  distances = cosine_similarity(qas_doc_embedding, qas_candidate_embeddings)\n",
        "  keywords = [qas_candidates[index] for index in distances.argsort()[0][-top_n:]]\n",
        "  keyword = keywords[0] # top_n = 1인 경우\n",
        "\n",
        "  # 키워드가 없는 경우\n",
        "  if len(keyword) == 0:\n",
        "    title = ''\n",
        "    subs_li = ''\n",
        "    print('찾는 문서가 없습니다.')\n",
        "    return title, subs_li\n",
        "\n",
        "  # 키워드 공백 기준으로 분리 (ex. 지미 카터 -> [지미, 카터])\n",
        "  keys = keyword.split(' ')\n",
        "  title_li = list(data['title'])\n",
        "  same = []\n",
        "  for i in range(len(title_li)):\n",
        "    for j in range(len(keys)):\n",
        "      if keys[j] not in title_li[i]:\n",
        "        break\n",
        "      elif j == (len(keys)-1): # 타이틀에 키워드가 모두 들어간 경우\n",
        "        same.append([i,title_li[i]])\n",
        "\n",
        "  if len(same) == 1: # 키워드가 들어간 타이틀이 1개인 경우\n",
        "    title = same[0][1] # 해당 문서의 제목 반환\n",
        "\n",
        "  else: # 제목 리스트에서 코사인 유사도 검사\n",
        "    key_len = len(keyword.replace(' ',''))\n",
        "    distances_li = []\n",
        "    keywords_li = []\n",
        "\n",
        "    # 키워드가 들어간 타이틀이 2개 이상인 경우\n",
        "    # 해당 문서들을 title_data로 저장\n",
        "    if len(same) > 1: \n",
        "      title_data = pd.DataFrame(columns = data.columns)\n",
        "      for i in range(len(same)):\n",
        "        title_data.loc[i] = data.loc[same[i][0]]\n",
        "\n",
        "    # 키워드가 들어간 타이틀이 없는 경우\n",
        "    # 글자 수가 일치하는 문서들을 title_data로 저장\n",
        "    else: \n",
        "      title_data = data.loc[data['title_len']==key_len]\n",
        "      title_data.reset_index(drop=True, inplace=True)\n",
        "\n",
        "    # title_data 문서 안에서 코사인 유사도 계산\n",
        "    title_li = list(title_data['title'])\n",
        "    for i in tqdm(range(len(title_li))):\n",
        "      distances = cosine_similarity(qas_embedding, title_data.loc[i,'embedding'])\n",
        "      distances_li.append(distances)\n",
        "      keywords_li.append(max(map(max, distances_li[i])))\n",
        "      title_idx = keywords_li.index(max(keywords_li))\n",
        "    title = title_li[title_idx] # 유사도 가장 높은 단어를 제목으로 선정\n",
        "\n",
        "  # 제목 -> 소제목\n",
        "  dt = data[data['title'] == title]\n",
        "  subs = dt['sub_name'].values[0]\n",
        "  subs_idx = dt['sub_idx'].values[0]\n",
        "\n",
        "  subs_li = ['기본']\n",
        "  for i in range(len(subs)-1): # 내용 있는 소제목만 출력\n",
        "    if subs_idx[i+1] - subs_idx[i] != 1:\n",
        "      subs_li.append(subs[i])\n",
        "  if len(subs) > 0:\n",
        "    subs_li.append(subs[len(subs)-1])\n",
        "\n",
        "  return title, subs_li"
      ],
      "metadata": {
        "id": "9Uf4zaqRCcox"
      },
      "execution_count": null,
      "outputs": []
    },
    {
      "cell_type": "code",
      "source": [
        "# 제목, 소제목 -> 내용\n",
        "# output : str (소제목에 해당하는 내용)\n",
        "\n",
        "def find_content(data, split_data, title, subtitle):\n",
        "  dt = data[data['title'] == title]\n",
        "\n",
        "  # 1) desc -> desc 출력\n",
        "  if subtitle == '기본':\n",
        "    return dt['desc'].values[0]\n",
        "\n",
        "  # 2) 그 외 특정 목차\n",
        "  # 해당 목차의 내용을 출력\n",
        "  else:\n",
        "    try:\n",
        "      j = dt['sub_name'].values[0].index(subtitle)\n",
        "      st = dt['sub_idx'].values[0][j] + 1\n",
        "      try:\n",
        "        ed = dt['sub_idx'].values[0][j+1]\n",
        "      except:\n",
        "        ed = -1\n",
        "      output = ' '.join(split_data[title].split('\\n')[st:ed])\n",
        "      return output\n",
        "    except:\n",
        "      return '잘못된 입력입니다.'"
      ],
      "metadata": {
        "id": "iBA0BV8bB9J3"
      },
      "execution_count": null,
      "outputs": []
    },
    {
      "cell_type": "markdown",
      "source": [
        "# 4. 실행"
      ],
      "metadata": {
        "id": "RmoVxlcfwxjD"
      }
    },
    {
      "cell_type": "code",
      "source": [
        "# 실행\n",
        "question = input('질문해주세요 : ')\n",
        "\n",
        "title, sub_li = find_titles(df2, stop_words, question)\n",
        "print('title:', title)\n",
        "print('소제목 리스트\\n', ', '.join(sub_li))\n",
        "\n",
        "sub = input('소제목 선택 : ')\n",
        "output = find_content(df2, df, title, sub)\n",
        "print(output)"
      ],
      "metadata": {
        "id": "QnYaNbM-ITGj",
        "colab": {
          "base_uri": "https://localhost:8080/",
          "height": 178,
          "referenced_widgets": [
            "a2852d785b3643e78538f63d124a50f7",
            "36972f71ffec4f3a85ab8ef71c0716cc",
            "5bac5ce3c13341838daed98820285bb7",
            "62a5e614243e4049a455929f5ee2a807",
            "549882c981cc49169ca0f264b22257f5",
            "1425f81696944ed18a596dbcd479ece1",
            "23b6705735f34184aafe8a7d8fda1a73",
            "5f0add85c21d4d73952b66231219d34a",
            "26f3cf26d86f4bd298d4b0a157d47e56",
            "f25dfe602f6d4b479611eaa748f61f9f",
            "5d2b74b320f44c5abdb0c0643f3d31ff"
          ]
        },
        "outputId": "68dc396d-70bc-4b86-b0ad-05d8e8cfbacf"
      },
      "execution_count": null,
      "outputs": [
        {
          "name": "stdout",
          "output_type": "stream",
          "text": [
            "질문해주세요 : 체첸공화국 어디에 있어?\n"
          ]
        },
        {
          "output_type": "display_data",
          "data": {
            "text/plain": [
              "  0%|          | 0/51 [00:00<?, ?it/s]"
            ],
            "application/vnd.jupyter.widget-view+json": {
              "version_major": 2,
              "version_minor": 0,
              "model_id": "a2852d785b3643e78538f63d124a50f7"
            }
          },
          "metadata": {}
        },
        {
          "output_type": "stream",
          "name": "stdout",
          "text": [
            "title: 알브레히트 뒤러\n",
            "소제목 리스트\n",
            " 기본, 삶과 창작 활동, 1506-1514년, 1518-1520년, 업적\n",
            "소제목 선택 : 1506-1514년\n",
            "1509년부터 뒤러는 뉘른베르크 시위원회에 의해서 임명된 미술가가 되었다. 사람들은 도시의 예술 계획을 입안하는데 뒤러가 상당부분 관여를 했다고 가정을 한다. 이 시기 동안 작은 크기의 동판화와 목판화 이외에 중요한 목판화 연작을 간행했다. 그 당시 뒤러는 드라이포인트 기법을 이용해서 판화를 제작하려는 시도를 했다. 그렇게 해서 〈성녀 베로니카〉(1510년), 〈고통을 겪는 구세주〉(1512년), 〈참회하는 성 히에로니무스〉(1512년)가 제작되었다. 이 시기부터 뒤러의 작품에서는 목판화가 압도적으로 우세하게 되었고, 뒤러가 그린 회화는 점점 드물게 보게 되었다. 1512년 아기 예수를 안고 있는 성모 마리아의 모습을 그린 유화가 있다. 작은 크기의 동판화 연작의 상당 부분이 이 해에 제작되었다. 그리고 뒤러는 막시밀리안 황제로부터 자신의 목판화와 동판화를 복제하는 것을 금지할 수 있는 특별한 권리를 얻었다. 뒤러는 여러 번 황제 막시밀리안 1세의 주문을 받아서 일을 했다. 늦어도 1510/1511년 이후부터는 관계가 이루어졌다. 뒤러의 친구인 빌리발트 피리크하이머(Willibald Pirckheimer)가 그 관계를 중재했다. 모든 작품은 간접적으로나마 황제의 결혼과 명성을 위한 것이었다. 또한 이 시기에 그의 유명한 동판화 〈기사, 죽음과 악마〉,〈서재의 성 히에로니무스〉,〈멜랑콜리아I〉이 제작되었다. 또한 〈파움가르트너 제단화〉도 이 시기에 제작된 작품이다. 그리고 어머니가 돌아가시기 2달 전에 뒤러는 목판화로 어머니의 초상화를 제작했는데, 이 그림은 서양 미술사에서 죽을 정도로 병약해진 인간을 그린 최초의 초상화였다.\n"
          ]
        }
      ]
    }
  ]
}